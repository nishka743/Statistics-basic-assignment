{
  "nbformat": 4,
  "nbformat_minor": 0,
  "metadata": {
    "colab": {
      "private_outputs": true,
      "provenance": []
    },
    "kernelspec": {
      "name": "python3",
      "display_name": "Python 3"
    },
    "language_info": {
      "name": "python"
    }
  },
  "cells": [
    {
      "cell_type": "markdown",
      "source": [
        "# Theory Questions"
      ],
      "metadata": {
        "id": "80z2KU8Qbl1-"
      }
    },
    {
      "cell_type": "markdown",
      "source": [
        "1. What is statistics, and why is it important?\n",
        "-Statistics is the science of collecting, analyzing, interpreting, presenting, and organizing data. It is important because it helps in making informed decisions in fields like business, medicine, government, and research."
      ],
      "metadata": {
        "id": "WrPTDplZbq_R"
      }
    },
    {
      "cell_type": "markdown",
      "source": [
        "2. What are the two main types of statistics?\n",
        "\n",
        "-Descriptive Statistics – Summarize and describe data.\n",
        "Inferential Statistics – Make predictions or generalizations about a population using sample data.\n",
        "\n"
      ],
      "metadata": {
        "id": "QcrrUimebxgE"
      }
    },
    {
      "cell_type": "markdown",
      "source": [
        "3. What are descriptive statistics?\n",
        "-Descriptive statistics involve methods like mean, median, mode, range, and standard deviation to describe and summarize data."
      ],
      "metadata": {
        "id": "joyA-ajbb6da"
      }
    },
    {
      "cell_type": "markdown",
      "source": [
        "4. What is inferential statistics?\n",
        "-Inferential statistics use sample data to make generalizations or predictions about a larger population, often through hypothesis testing and confidence intervals.\n",
        "\n"
      ],
      "metadata": {
        "id": "Yl0N3zxBiTEX"
      }
    },
    {
      "cell_type": "markdown",
      "source": [
        "5. What is sampling in statistics?\n",
        "-Sampling is the process of selecting a subset (sample) from a population to make inferences about the whole group."
      ],
      "metadata": {
        "id": "_aR5mn3YicMR"
      }
    },
    {
      "cell_type": "markdown",
      "source": [
        "6.  What are the different types of sampling methods?\n",
        "\n",
        "-Random Sampling (e.g., Simple Random, Stratified, Systematic, Cluster)\n",
        "\n",
        "Non-Random Sampling (e.g., Convenience, Judgmental, Quota, Snowball)"
      ],
      "metadata": {
        "id": "ReyHj7xSikLA"
      }
    },
    {
      "cell_type": "markdown",
      "source": [
        "7. . What is the difference between random and non-random sampling?\n",
        "\n",
        "Random Sampling: Every member has an equal chance of selection—minimizes bias.\n",
        "Non-Random Sampling: Selection based on convenience or judgment—may introduce bias."
      ],
      "metadata": {
        "id": "O3tFG4I1iuaT"
      }
    },
    {
      "cell_type": "markdown",
      "source": [
        "8. Define and give examples of qualitative and quantitative data.\n",
        "\n",
        "Qualitative (Categorical): Descriptive data (e.g., color, gender)\n",
        "Quantitative (Numerical): Numeric data (e.g., age, height, income)"
      ],
      "metadata": {
        "id": "mptu_V8Ei7-t"
      }
    },
    {
      "cell_type": "markdown",
      "source": [
        "9. What are the different types of data in statistics?\n",
        "\n",
        "Qualitative\n",
        "\n",
        "Quantitative (Discrete and Continuous)"
      ],
      "metadata": {
        "id": "hmYgt-WHjDXO"
      }
    },
    {
      "cell_type": "markdown",
      "source": [
        "10. Explain nominal, ordinal, interval, and ratio levels of measurement.\n",
        "\n",
        "Nominal: Categories without order (e.g., gender, nationality)\n",
        "\n",
        "Ordinal: Categories with order (e.g., rankings)\n",
        "\n",
        "Interval: Ordered, equal intervals, no true zero (e.g., temperature in °C)\n",
        "\n",
        "Ratio: Ordered, equal intervals, true zero (e.g., weight, height)"
      ],
      "metadata": {
        "id": "OKR6NkYklKFF"
      }
    },
    {
      "cell_type": "markdown",
      "source": [
        "11.  What is the measure of central tendency?\n",
        "- It is a statistical measure that identifies a single value as representative of an entire dataset (center point)."
      ],
      "metadata": {
        "id": "F9Y0oa2ClP5y"
      }
    },
    {
      "cell_type": "markdown",
      "source": [
        "12. Define mean, median, and mode.\n",
        "- Mean: Average\n",
        "Median: Middle value\n",
        "Mode: Most frequent value"
      ],
      "metadata": {
        "id": "J4booykwYicG"
      }
    },
    {
      "cell_type": "markdown",
      "source": [
        "13. . What is the significance of the measure of central tendency?\n",
        "- It helps summarize a dataset with a single value that reflects the center of the distribution, useful for comparison and analysis."
      ],
      "metadata": {
        "id": "JHlwpF7JYzb8"
      }
    },
    {
      "cell_type": "markdown",
      "source": [
        "14. What is variance, and how is it calculated?\n",
        "Variance measures the spread of data from the mean.\n",
        "Formula:\n",
        "Variance\n",
        "=\n",
        "∑\n",
        "(\n",
        "𝑥\n",
        "𝑖\n",
        "−\n",
        "𝑥\n",
        "ˉ\n",
        ")\n",
        "2\n",
        "𝑛\n",
        "Variance=\n",
        "n\n",
        "∑(x\n",
        "i\n",
        "​\n",
        " −\n",
        "x\n",
        "ˉ\n",
        " )\n",
        "2\n",
        "\n",
        "​\n",
        "  (for population)"
      ],
      "metadata": {
        "id": "ntZLagSCY8is"
      }
    },
    {
      "cell_type": "markdown",
      "source": [
        "15. What is standard deviation, and why is it important?\n",
        "- Standard deviation is the square root of variance. It shows how much the data deviate from the mean. It is widely used because it’s in the same unit as the data."
      ],
      "metadata": {
        "id": "nT7i6zPjZKFK"
      }
    },
    {
      "cell_type": "markdown",
      "source": [
        "16.  Define and explain the term range in statistics.\n",
        "- Range = Maximum value − Minimum value\n",
        "\n",
        "It shows the spread between the smallest and largest values."
      ],
      "metadata": {
        "id": "J6h1kAA_ZV-i"
      }
    },
    {
      "cell_type": "markdown",
      "source": [
        "17. What is the difference between variance and standard deviation?\n",
        "\n",
        "- Variance: Measures spread using squared differences.\n",
        "\n",
        "Standard Deviation: Square root of variance, in original data units."
      ],
      "metadata": {
        "id": "XhBl6wV-ZcJu"
      }
    },
    {
      "cell_type": "markdown",
      "source": [
        "18. What is skewness in a dataset?\n",
        "- Skewness measures asymmetry in the distribution of data."
      ],
      "metadata": {
        "id": "iDZ18nwrZsJK"
      }
    },
    {
      "cell_type": "markdown",
      "source": [
        "19. What does it mean if a dataset is positively or negatively skewed?\n",
        "\n",
        "- Positively Skewed: Tail is on the right; mean > median\n",
        "\n",
        "Negatively Skewed: Tail is on the left; mean < median"
      ],
      "metadata": {
        "id": "1qW8pTwMaMox"
      }
    },
    {
      "cell_type": "markdown",
      "source": [
        "20. Define and explain kurtosis.\n",
        "- Kurtosis measures the \"tailedness\" of a distribution.\n",
        "High kurtosis: More outliers (heavy tails)\n",
        "Low kurtosis: Fewer outliers (light tails)"
      ],
      "metadata": {
        "id": "qLkS76-wanpp"
      }
    },
    {
      "cell_type": "markdown",
      "source": [
        "21. What is the purpose of covariance?\n",
        "- Covariance measures how two variables change together. Positive means they move in the same direction; negative means opposite."
      ],
      "metadata": {
        "id": "Gw5_uy8eavQh"
      }
    },
    {
      "cell_type": "markdown",
      "source": [
        "22. What does correlation measure in statistics?\n",
        "- Correlation quantifies the strength and direction of the relationship between two variables (value between -1 and 1)."
      ],
      "metadata": {
        "id": "-YN797-_a2Ac"
      }
    },
    {
      "cell_type": "markdown",
      "source": [
        "23. What is the difference between covariance and correlation?\n",
        "- Covariance: Measures direction of relationship; units depend on variables.\n",
        "Correlation: Standardized form of covariance; unitless and easier to interpret."
      ],
      "metadata": {
        "id": "0P1rlrfnbACx"
      }
    },
    {
      "cell_type": "markdown",
      "source": [
        "24. What are some real-world applications of statistics?\n",
        "\n",
        "Healthcare: Analyzing clinical trial results\n",
        "\n",
        "Business: Market research and forecasting\n",
        "\n",
        "Politics: Polling and election predictions\n",
        "\n",
        "Education: Student performance analysis\n",
        "\n",
        "Economics: Inflation and unemployment rates\n",
        "\n"
      ],
      "metadata": {
        "id": "e520KbUWbNMu"
      }
    },
    {
      "cell_type": "markdown",
      "source": [
        "# Practical Questions"
      ],
      "metadata": {
        "id": "7FzkbAZMbTkE"
      }
    },
    {
      "cell_type": "markdown",
      "source": [
        "1. How do you calculate the mean, median, and mode of a dataset?"
      ],
      "metadata": {
        "id": "VE9_Ufz6bb9X"
      }
    },
    {
      "cell_type": "code",
      "source": [
        "import statistics\n",
        "\n",
        "data = [10, 20, 20, 30, 40]\n",
        "\n",
        "mean = statistics.mean(data)\n",
        "median = statistics.median(data)\n",
        "mode = statistics.mode(data)\n",
        "\n",
        "print(\"Mean:\", mean)\n",
        "print(\"Median:\", median)\n",
        "print(\"Mode:\", mode)\n"
      ],
      "metadata": {
        "id": "l-6bpR6UbhVS"
      },
      "execution_count": null,
      "outputs": []
    },
    {
      "cell_type": "markdown",
      "source": [
        "2.  Python program to compute variance and standard deviation"
      ],
      "metadata": {
        "id": "wSVjQn4zbnK0"
      }
    },
    {
      "cell_type": "code",
      "source": [
        "import statistics\n",
        "\n",
        "data = [12, 15, 20, 22, 26]\n",
        "\n",
        "variance = statistics.variance(data)\n",
        "std_dev = statistics.stdev(data)\n",
        "\n",
        "print(\"Variance:\", variance)\n",
        "print(\"Standard Deviation:\", std_dev)\n"
      ],
      "metadata": {
        "id": "byz0kLubby_x"
      },
      "execution_count": null,
      "outputs": []
    },
    {
      "cell_type": "markdown",
      "source": [
        "3. Create a dataset and classify **it**"
      ],
      "metadata": {
        "id": "wkXipO19b-m7"
      }
    },
    {
      "cell_type": "code",
      "source": [
        "students = [\n",
        "    {\"name\": \"Alice\", \"grade\": \"A\", \"height\": 160, \"temperature\": 37.0, \"marks\": 85}\n",
        "]\n"
      ],
      "metadata": {
        "id": "OtLysB6ecCvk"
      },
      "execution_count": null,
      "outputs": []
    },
    {
      "cell_type": "markdown",
      "source": [
        "4.  Implement random and stratified sampling"
      ],
      "metadata": {
        "id": "Jm0lQDYScUET"
      }
    },
    {
      "cell_type": "code",
      "source": [
        "import pandas as pd\n",
        "from sklearn.model_selection import train_test_split\n",
        "\n",
        "data = pd.DataFrame({\n",
        "    \"gender\": [\"M\", \"F\", \"M\", \"F\", \"M\", \"F\", \"M\", \"F\"],\n",
        "    \"score\": [88, 90, 85, 87, 84, 89, 83, 91]\n",
        "})\n",
        "\n",
        "# Random Sampling\n",
        "random_sample = data.sample(n=4)\n",
        "\n",
        "# Stratified Sampling based on gender\n",
        "stratified_sample, _ = train_test_split(data, stratify=data[\"gender\"], train_size=0.5)\n",
        "\n",
        "print(\"Random Sample:\\n\", random_sample)\n",
        "print(\"\\nStratified Sample:\\n\", stratified_sample)\n"
      ],
      "metadata": {
        "id": "I9SHvjwkcX7z"
      },
      "execution_count": null,
      "outputs": []
    },
    {
      "cell_type": "markdown",
      "source": [
        "5. Python function to calculate the range"
      ],
      "metadata": {
        "id": "5XKSgHpNcro-"
      }
    },
    {
      "cell_type": "code",
      "source": [
        "def calculate_range(data):\n",
        "    return max(data) - min(data)\n",
        "\n",
        "dataset = [5, 10, 15, 20]\n",
        "print(\"Range:\", calculate_range(dataset))\n"
      ],
      "metadata": {
        "id": "KZ-3UkyEcnk_"
      },
      "execution_count": null,
      "outputs": []
    },
    {
      "cell_type": "markdown",
      "source": [
        "6.  Create a dataset & plot histogram to visualize skewness"
      ],
      "metadata": {
        "id": "0Uhw42sYcyIu"
      }
    },
    {
      "cell_type": "code",
      "source": [
        "import matplotlib.pyplot as plt\n",
        "import numpy as np\n",
        "\n",
        "data = np.random.exponential(scale=2, size=1000)\n",
        "plt.hist(data, bins=30, edgecolor='black')\n",
        "plt.title(\"Histogram Showing Skewness\")\n",
        "plt.show()\n"
      ],
      "metadata": {
        "id": "2IR3erY0c2cW"
      },
      "execution_count": null,
      "outputs": []
    },
    {
      "cell_type": "markdown",
      "source": [
        "7.  Calculate skewness and kurtosis using Python"
      ],
      "metadata": {
        "id": "TKkE0aCSc8Bo"
      }
    },
    {
      "cell_type": "code",
      "source": [
        "from scipy.stats import skew, kurtosis\n",
        "\n",
        "data = [12, 15, 20, 22, 22, 26, 30]\n",
        "print(\"Skewness:\", skew(data))\n",
        "print(\"Kurtosis:\", kurtosis(data))\n"
      ],
      "metadata": {
        "id": "Ej8WFOsWdGr1"
      },
      "execution_count": null,
      "outputs": []
    },
    {
      "cell_type": "markdown",
      "source": [
        "8. Generate a dataset with positive and negative skewness"
      ],
      "metadata": {
        "id": "H8RE9x4idRWN"
      }
    },
    {
      "cell_type": "code",
      "source": [
        "import matplotlib.pyplot as plt\n",
        "import numpy as np\n",
        "\n",
        "# Positive skew\n",
        "data_pos = np.random.exponential(scale=2, size=1000)\n",
        "\n",
        "# Negative skew (mirror of positive)\n",
        "data_neg = -np.random.exponential(scale=2, size=1000)\n",
        "\n",
        "plt.figure(figsize=(10, 4))\n",
        "\n",
        "plt.subplot(1, 2, 1)\n",
        "plt.hist(data_pos, bins=30)\n",
        "plt.title(\"Positive Skew\")\n",
        "\n",
        "plt.subplot(1, 2, 2)\n",
        "plt.hist(data_neg, bins=30)\n",
        "plt.title(\"Negative Skew\")\n",
        "\n",
        "plt.tight_layout()\n",
        "plt.show()\n"
      ],
      "metadata": {
        "id": "ENkf44mBdXFc"
      },
      "execution_count": null,
      "outputs": []
    },
    {
      "cell_type": "markdown",
      "source": [
        "8.  Calculate covariance between two dataset"
      ],
      "metadata": {
        "id": "EZdvL8jIdkch"
      }
    },
    {
      "cell_type": "code",
      "source": [
        "import numpy as np\n",
        "\n",
        "x = [2, 4, 6, 8]\n",
        "y = [1, 3, 5, 7]\n",
        "\n",
        "cov_matrix = np.cov(x, y)\n",
        "print(\"Covariance:\", cov_matrix[0][1])\n",
        "\n"
      ],
      "metadata": {
        "id": "FbqR8eTLdrrK"
      },
      "execution_count": null,
      "outputs": []
    },
    {
      "cell_type": "markdown",
      "source": [
        "9. Calculate correlation coefficient"
      ],
      "metadata": {
        "id": "osjrX3cHdwn5"
      }
    },
    {
      "cell_type": "code",
      "source": [
        "import numpy as np\n",
        "\n",
        "x = [2, 4, 6, 8]\n",
        "y = [1, 3, 5, 7]\n",
        "\n",
        "corr = np.corrcoef(x, y)\n",
        "print(\"Correlation Coefficient:\", corr[0][1])\n"
      ],
      "metadata": {
        "id": "uqhXdJijd4e0"
      },
      "execution_count": null,
      "outputs": []
    },
    {
      "cell_type": "markdown",
      "source": [
        "10. Create a scatter plot"
      ],
      "metadata": {
        "id": "7BlPZBpeen0k"
      }
    },
    {
      "cell_type": "code",
      "source": [
        "import matplotlib.pyplot as plt\n",
        "\n",
        "x = [2, 4, 6, 8]\n",
        "y = [1, 3, 5, 7]\n",
        "\n",
        "plt.scatter(x, y)\n",
        "plt.title(\"Scatter Plot\")\n",
        "plt.xlabel(\"X\")\n",
        "plt.ylabel(\"Y\")\n",
        "plt.show()\n"
      ],
      "metadata": {
        "id": "ZN5rJFM9er8N"
      },
      "execution_count": null,
      "outputs": []
    },
    {
      "cell_type": "markdown",
      "source": [
        "11.  Compare simple random and systematic sampling"
      ],
      "metadata": {
        "id": "f3Lv5CRTev5s"
      }
    },
    {
      "cell_type": "code",
      "source": [
        "import pandas as pd\n",
        "\n",
        "data = pd.DataFrame({'ID': range(1, 21)})\n",
        "\n",
        "# Simple Random Sampling\n",
        "simple_random = data.sample(n=5)\n",
        "\n",
        "# Systematic Sampling\n",
        "k = 4\n",
        "systematic = data.iloc[::k]\n",
        "\n",
        "print(\"Simple Random Sample:\\n\", simple_random)\n",
        "print(\"\\nSystematic Sample:\\n\", systematic)\n"
      ],
      "metadata": {
        "id": "Ac-TRnHCe0SJ"
      },
      "execution_count": null,
      "outputs": []
    },
    {
      "cell_type": "markdown",
      "source": [
        "12.  Calculate mean, median, mode of grouped data"
      ],
      "metadata": {
        "id": "OC876O2Xe6bV"
      }
    },
    {
      "cell_type": "code",
      "source": [
        "import pandas as pd\n",
        "from statistics import mode\n",
        "\n",
        "# Grouped frequency table\n",
        "data = pd.DataFrame({\n",
        "    \"Class\": [\"0-10\", \"10-20\", \"20-30\"],\n",
        "    \"Frequency\": [5, 10, 5]\n",
        "})\n",
        "\n",
        "data[\"Midpoint\"] = [5, 15, 25]\n",
        "mean = sum(data[\"Midpoint\"] * data[\"Frequency\"]) / sum(data[\"Frequency\"])\n",
        "print(\"Grouped Mean:\", mean)\n"
      ],
      "metadata": {
        "id": "7RFlL4nqfAUt"
      },
      "execution_count": null,
      "outputs": []
    },
    {
      "cell_type": "markdown",
      "source": [
        "13. Simulate data & calculate central tendency and dispersion"
      ],
      "metadata": {
        "id": "JFclznGjfDMJ"
      }
    },
    {
      "cell_type": "code",
      "source": [
        "import numpy as np\n",
        "from scipy.stats import skew, kurtosis\n",
        "\n",
        "data = np.random.normal(loc=50, scale=10, size=1000)\n",
        "\n",
        "print(\"Mean:\", np.mean(data))\n",
        "print(\"Median:\", np.median(data))\n",
        "print(\"Standard Deviation:\", np.std(data))\n",
        "print(\"Variance:\", np.var(data))\n",
        "print(\"Skewness:\", skew(data))\n",
        "print(\"Kurtosis:\", kurtosis(data))\n"
      ],
      "metadata": {
        "id": "qlHinEW_fIt1"
      },
      "execution_count": null,
      "outputs": []
    },
    {
      "cell_type": "markdown",
      "source": [
        "14.  Use NumPy or pandas to summarize a dataset’s descriptive statistics"
      ],
      "metadata": {
        "id": "3wz6TaBAfMDp"
      }
    },
    {
      "cell_type": "code",
      "source": [
        "import pandas as pd\n",
        "import numpy as np\n",
        "\n",
        "# Create a dataset\n",
        "data = pd.DataFrame({\n",
        "    \"Math\": np.random.randint(50, 100, size=30),\n",
        "    \"Science\": np.random.randint(40, 95, size=30)\n",
        "})\n",
        "\n",
        "# Summary statistics\n",
        "print(data.describe())\n"
      ],
      "metadata": {
        "id": "bhPu7Roifhdy"
      },
      "execution_count": null,
      "outputs": []
    },
    {
      "cell_type": "markdown",
      "source": [
        "15. Plot a boxplot to understand the spread and identify outliers"
      ],
      "metadata": {
        "id": "9OOm7XrNflw-"
      }
    },
    {
      "cell_type": "code",
      "source": [
        "import seaborn as sns\n",
        "import matplotlib.pyplot as plt\n",
        "\n",
        "sns.boxplot(data=data)\n",
        "plt.title(\"Boxplot for Subjects\")\n",
        "plt.show()\n"
      ],
      "metadata": {
        "id": "9A_Uz2cefrnC"
      },
      "execution_count": null,
      "outputs": []
    },
    {
      "cell_type": "markdown",
      "source": [
        " 16. Calculate the interquartile range (IQR) of a datase"
      ],
      "metadata": {
        "id": "DM7e7pYqf9ju"
      }
    },
    {
      "cell_type": "code",
      "source": [
        "Q1 = data[\"Math\"].quantile(0.25)\n",
        "Q3 = data[\"Math\"].quantile(0.75)\n",
        "IQR = Q3 - Q1\n",
        "print(\"Interquartile Range (IQR):\", IQR)\n"
      ],
      "metadata": {
        "id": "T7Ei1iYAgCsk"
      },
      "execution_count": null,
      "outputs": []
    },
    {
      "cell_type": "markdown",
      "source": [
        "17. Implement Z-score normalization and explain its significance"
      ],
      "metadata": {
        "id": "eL6vAqcGgIzz"
      }
    },
    {
      "cell_type": "code",
      "source": [
        "from scipy.stats import zscore\n",
        "\n",
        "# Z-score normalization\n",
        "data_z = data.apply(zscore)\n",
        "\n",
        "print(data_z.head())\n"
      ],
      "metadata": {
        "id": "jwVWcTeHgLqc"
      },
      "execution_count": null,
      "outputs": []
    },
    {
      "cell_type": "markdown",
      "source": [
        "18. Compare two datasets using their standard deviation"
      ],
      "metadata": {
        "id": "-UIsqpRtgsjS"
      }
    },
    {
      "cell_type": "code",
      "source": [
        "std_math = data[\"Math\"].std()\n",
        "std_sci = data[\"Science\"].std()\n",
        "\n",
        "print(\"Math SD:\", std_math)\n",
        "print(\"Science SD:\", std_sci)\n",
        "\n",
        "if std_math > std_sci:\n",
        "    print(\"Math scores have more variability.\")\n",
        "else:\n",
        "    print(\"Science scores have more variability.\")\n"
      ],
      "metadata": {
        "id": "n4vHdsYUgw7e"
      },
      "execution_count": null,
      "outputs": []
    },
    {
      "cell_type": "markdown",
      "source": [
        "19.  Visualize covariance using a heatmap"
      ],
      "metadata": {
        "id": "8IbunSfmg2to"
      }
    },
    {
      "cell_type": "code",
      "source": [
        "cov_matrix = data.cov()\n",
        "\n",
        "sns.heatmap(cov_matrix, annot=True, cmap=\"YlGnBu\")\n",
        "plt.title(\"Covariance Matrix Heatmap\")\n",
        "plt.show()\n"
      ],
      "metadata": {
        "id": "WwypkRSAg8ru"
      },
      "execution_count": null,
      "outputs": []
    },
    {
      "cell_type": "markdown",
      "source": [
        "20.  Use seaborn to create a correlation matrix"
      ],
      "metadata": {
        "id": "ewhoX6jghDYi"
      }
    },
    {
      "cell_type": "code",
      "source": [
        "corr_matrix = data.corr()\n",
        "\n",
        "sns.heatmap(corr_matrix, annot=True, cmap=\"coolwarm\")\n",
        "plt.title(\"Correlation Matrix\")\n",
        "plt.show()\n"
      ],
      "metadata": {
        "id": "FwTikUdFhJbR"
      },
      "execution_count": null,
      "outputs": []
    },
    {
      "cell_type": "markdown",
      "source": [
        "21. Generate a dataset and compute variance and standard deviation"
      ],
      "metadata": {
        "id": "nZupFZrUhM2D"
      }
    },
    {
      "cell_type": "code",
      "source": [
        "np.random.seed(0)\n",
        "sample = np.random.randint(10, 100, 20)\n",
        "\n",
        "variance = np.var(sample)\n",
        "std_dev = np.std(sample)\n",
        "\n",
        "print(\"Sample:\", sample)\n",
        "print(\"Variance:\", variance)\n",
        "print(\"Standard Deviation:\", std_dev)\n"
      ],
      "metadata": {
        "id": "M7AKBm6ChSlQ"
      },
      "execution_count": null,
      "outputs": []
    },
    {
      "cell_type": "markdown",
      "source": [
        "22.  Visualize skewness and kurtosis using seaborn/matplotlib"
      ],
      "metadata": {
        "id": "ZwUKZnXChXIM"
      }
    },
    {
      "cell_type": "code",
      "source": [
        "from scipy.stats import skew, kurtosis\n",
        "\n",
        "sns.histplot(sample, kde=True)\n",
        "plt.title(\"Distribution with Skewness & Kurtosis\")\n",
        "plt.show()\n",
        "\n",
        "print(\"Skewness:\", skew(sample))\n",
        "print(\"Kurtosis:\", kurtosis(sample))\n",
        "\n"
      ],
      "metadata": {
        "id": "Giuj4O0mhcUw"
      },
      "execution_count": null,
      "outputs": []
    },
    {
      "cell_type": "markdown",
      "source": [
        "23.  Implement Pearson and Spearman correlation"
      ],
      "metadata": {
        "id": "qrQt6mhuhj0o"
      }
    },
    {
      "cell_type": "code",
      "source": [
        "from scipy.stats import pearsonr, spearmanr\n",
        "\n",
        "math = data[\"Math\"]\n",
        "science = data[\"Science\"]\n",
        "\n",
        "pearson_corr, _ = pearsonr(math, science)\n",
        "spearman_corr, _ = spearmanr(math, science)\n",
        "\n",
        "print(\"Pearson Correlation:\", pearson_corr)\n",
        "print(\"Spearman Correlation:\", spearman_corr)\n"
      ],
      "metadata": {
        "id": "2H0VO8Jahp_J"
      },
      "execution_count": null,
      "outputs": []
    }
  ]
}